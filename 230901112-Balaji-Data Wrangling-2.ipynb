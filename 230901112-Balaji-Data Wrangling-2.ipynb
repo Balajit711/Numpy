{
 "cells": [
  {
   "cell_type": "code",
   "execution_count": 2,
   "id": "364202e3",
   "metadata": {},
   "outputs": [
    {
     "name": "stdout",
     "output_type": "stream",
     "text": [
      "Original dataframe:\n",
      "    Name  Age Gender Marks\n",
      "0   Sai   20      M    90\n",
      "1  Yuva   18      F    76\n",
      "2   Poo   19      M   NaN\n",
      "3  Savi   20      F    74\n",
      "4  Ruba   18      F    65\n",
      "5   Raj   17      M   NaN\n",
      "6  Ravi   19      M    71\n",
      "\n",
      " Replacing NaN with average marks:\n",
      "    Name  Age Gender  Marks\n",
      "0   Sai   20      M   90.0\n",
      "1  Yuva   18      F   76.0\n",
      "2   Poo   19      M   90.0\n",
      "3  Savi   20      F   74.0\n",
      "4  Ruba   18      F   65.0\n",
      "5   Raj   17      M   90.0\n",
      "6  Ravi   19      M   71.0\n"
     ]
    }
   ],
   "source": [
    "import pandas as pd\n",
    "#assign data\n",
    "data={'Name':['Sai','Yuva','Poo','Savi','Ruba','Raj','Ravi'],\n",
    "      'Age':[20,18,19,20,18,17,19],\n",
    "      'Gender':['M','F','M','F','F','M','M'],\n",
    "      'Marks':[90,76,'NaN',74,65,'NaN',71]}\n",
    "df=pd.DataFrame(data)\n",
    "print(\"Original dataframe:\\n\",df)\n",
    "c=avg=0\n",
    "for ele in df['Marks']:\n",
    "    if str(ele).isnumeric():\n",
    "        c+=1\n",
    "        avg+=ele\n",
    "    avg/=c\n",
    "    df=df.replace(to_replace='NaN',value=avg)\n",
    "print(\"\\n Replacing NaN with average marks:\\n\",df)"
   ]
  },
  {
   "cell_type": "code",
   "execution_count": 3,
   "id": "4410ed26",
   "metadata": {},
   "outputs": [
    {
     "name": "stdout",
     "output_type": "stream",
     "text": [
      "\n",
      " Filtering and dropping functio:\n",
      "    Name Gender  Marks\n",
      "0   Sai      M   90.0\n",
      "1  Yuva      F   76.0\n",
      "2   Poo      M   90.0\n",
      "5   Raj      M   90.0\n"
     ]
    }
   ],
   "source": [
    "#Filter top scoring students\n",
    "df=df[df['Marks']>=75]\n",
    "#Remove age row\n",
    "df=df.drop(['Age'],axis=1)\n",
    "#Display data\n",
    "print(\"\\n Filtering and dropping functio:\\n\",df)"
   ]
  },
  {
   "cell_type": "code",
   "execution_count": 8,
   "id": "3746ae8f",
   "metadata": {},
   "outputs": [
    {
     "name": "stdout",
     "output_type": "stream",
     "text": [
      "\n",
      " Orginal DataFrame:\n",
      "    Name Subject_id  Marks_scored\n",
      "1   Sai       Sub1            98\n",
      "2   Raj       Sub2            90\n",
      "3  Yuva       Sub3            92\n",
      "4   Ram       Sub4            85\n",
      "5   Sam       Sub5            89\n",
      "Orginal DataFrame 2:\n",
      "     Name Subject_id  Marks_scored\n",
      "1  Sanju       Sub2            73\n",
      "2   Ravi       Sub4            80\n",
      "3  Shree       Sub3            85\n",
      "4   Niki       Sub6            98\n",
      "5  Rahul       Sub5            79\n",
      "    Name Subject_id  Marks_scored\n",
      "1    Sai       Sub1            98\n",
      "2    Raj       Sub2            90\n",
      "3   Yuva       Sub3            92\n",
      "4    Ram       Sub4            85\n",
      "5    Sam       Sub5            89\n",
      "1  Sanju       Sub2            73\n",
      "2   Ravi       Sub4            80\n",
      "3  Shree       Sub3            85\n",
      "4   Niki       Sub6            98\n",
      "5  Rahul       Sub5            79\n"
     ]
    }
   ],
   "source": [
    "one=pd.DataFrame({'Name':['Sai','Raj','Yuva','Ram','Sam'],'Subject_id':['Sub1','Sub2','Sub3','Sub4','Sub5',],\n",
    "                 'Marks_scored':[98,90,92,85,89]},index=[1,2,3,4,5])\n",
    "two=pd.DataFrame({'Name':['Sanju','Ravi','Shree','Niki','Rahul'],'Subject_id':['Sub2','Sub4','Sub3','Sub6','Sub5',],\n",
    "                 'Marks_scored':[73,80,85,98,79]},index=[1,2,3,4,5])\n",
    "print(\"\\n Orginal DataFrame:\\n\",one)\n",
    "print(\"Orginal DataFrame 2:\\n\",two)\n",
    "print(pd.concat([one,two]))"
   ]
  },
  {
   "cell_type": "code",
   "execution_count": null,
   "id": "725212a7",
   "metadata": {},
   "outputs": [],
   "source": []
  }
 ],
 "metadata": {
  "kernelspec": {
   "display_name": "Python 3 (ipykernel)",
   "language": "python",
   "name": "python3"
  },
  "language_info": {
   "codemirror_mode": {
    "name": "ipython",
    "version": 3
   },
   "file_extension": ".py",
   "mimetype": "text/x-python",
   "name": "python",
   "nbconvert_exporter": "python",
   "pygments_lexer": "ipython3",
   "version": "3.11.4"
  }
 },
 "nbformat": 4,
 "nbformat_minor": 5
}
