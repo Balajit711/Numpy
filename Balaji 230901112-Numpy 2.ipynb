{
 "cells": [
  {
   "cell_type": "code",
   "execution_count": 1,
   "id": "47aea233",
   "metadata": {},
   "outputs": [
    {
     "name": "stdout",
     "output_type": "stream",
     "text": [
      "[3 4 5 6]\n"
     ]
    }
   ],
   "source": [
    "import numpy as np\n",
    "arr=np.array([1,2,3,4,5,6,7,8,9])\n",
    "slice1=arr[2:6]\n",
    "print(slice1)"
   ]
  },
  {
   "cell_type": "code",
   "execution_count": 2,
   "id": "5409ffaa",
   "metadata": {},
   "outputs": [
    {
     "name": "stdout",
     "output_type": "stream",
     "text": [
      "[1 3 5 7 9]\n"
     ]
    }
   ],
   "source": [
    "slice2=arr[::2]\n",
    "print(slice2)"
   ]
  },
  {
   "cell_type": "code",
   "execution_count": 3,
   "id": "7af05bf1",
   "metadata": {},
   "outputs": [
    {
     "ename": "SyntaxError",
     "evalue": "cannot assign to expression here. Maybe you meant '==' instead of '='? (66046242.py, line 1)",
     "output_type": "error",
     "traceback": [
      "\u001b[0;36m  Cell \u001b[0;32mIn[3], line 1\u001b[0;36m\u001b[0m\n\u001b[0;31m    rev-arr=arr[::-1]\u001b[0m\n\u001b[0m    ^\u001b[0m\n\u001b[0;31mSyntaxError\u001b[0m\u001b[0;31m:\u001b[0m cannot assign to expression here. Maybe you meant '==' instead of '='?\n"
     ]
    }
   ],
   "source": [
    "rev-arr=arr[::-1]\n",
    "print(rev-arr)"
   ]
  },
  {
   "cell_type": "code",
   "execution_count": 4,
   "id": "a69166b9",
   "metadata": {},
   "outputs": [
    {
     "ename": "NameError",
     "evalue": "name 'rev' is not defined",
     "output_type": "error",
     "traceback": [
      "\u001b[0;31m---------------------------------------------------------------------------\u001b[0m",
      "\u001b[0;31mNameError\u001b[0m                                 Traceback (most recent call last)",
      "Cell \u001b[0;32mIn[4], line 2\u001b[0m\n\u001b[1;32m      1\u001b[0m rev_arr\u001b[38;5;241m=\u001b[39marr[::\u001b[38;5;241m-\u001b[39m\u001b[38;5;241m1\u001b[39m]\n\u001b[0;32m----> 2\u001b[0m \u001b[38;5;28mprint\u001b[39m(rev\u001b[38;5;241m-\u001b[39marr)\n",
      "\u001b[0;31mNameError\u001b[0m: name 'rev' is not defined"
     ]
    }
   ],
   "source": [
    "rev_arr=arr[::-1]\n",
    "print(rev-arr)"
   ]
  },
  {
   "cell_type": "code",
   "execution_count": 5,
   "id": "9d740d84",
   "metadata": {},
   "outputs": [
    {
     "name": "stdout",
     "output_type": "stream",
     "text": [
      "[9 8 7 6 5 4 3 2 1]\n"
     ]
    }
   ],
   "source": [
    "rev_arr=arr[::-1]\n",
    "print(rev_arr)"
   ]
  },
  {
   "cell_type": "code",
   "execution_count": null,
   "id": "34ca4738",
   "metadata": {},
   "outputs": [],
   "source": []
  },
  {
   "cell_type": "code",
   "execution_count": 10,
   "id": "0e99c306",
   "metadata": {},
   "outputs": [
    {
     "name": "stdout",
     "output_type": "stream",
     "text": [
      "[[ 1  2  3  4]\n",
      " [ 9 10 11 12]]\n",
      "[[ 1  2  3  4]\n",
      " [ 9 10 11 12]]\n",
      "[[ 5  6  7  8]\n",
      " [ 9 10 11 12]]\n",
      "[[11 12]]\n",
      "[ 3  7 11]\n",
      "[[1 2 3 4]]\n"
     ]
    }
   ],
   "source": [
    "a=np.array([[1,2,3,4],[5,6,7,8],[9,10,11,12]])\n",
    "print(a[0:3:2])\n",
    "print(a[0::2])\n",
    "print(a[1::])\n",
    "print(a[2:,2:])\n",
    "print(a[:,2])\n",
    "print(a[:2:3])"
   ]
  },
  {
   "cell_type": "code",
   "execution_count": 1,
   "id": "e2c1b9d7",
   "metadata": {},
   "outputs": [
    {
     "name": "stdout",
     "output_type": "stream",
     "text": [
      "[[2 3]\n",
      " [5 6]]\n"
     ]
    }
   ],
   "source": [
    "import numpy as np\n",
    "arr=np.array([[1,2,3],[4,5,6],[7,8,9]])\n",
    "subarray=arr[0:2,1:3]\n",
    "print(subarray)"
   ]
  },
  {
   "cell_type": "code",
   "execution_count": 2,
   "id": "655fbaa6",
   "metadata": {},
   "outputs": [
    {
     "name": "stdout",
     "output_type": "stream",
     "text": [
      "[[7 8 9]\n",
      " [4 5 6]\n",
      " [1 2 3]]\n"
     ]
    }
   ],
   "source": [
    "reversed_array=arr[::-1]\n",
    "print(reversed_array)"
   ]
  },
  {
   "cell_type": "code",
   "execution_count": 3,
   "id": "748f8de1",
   "metadata": {},
   "outputs": [
    {
     "name": "stdout",
     "output_type": "stream",
     "text": [
      "[1 4 7]\n"
     ]
    }
   ],
   "source": [
    "col1=arr[:,0]\n",
    "print(col1)"
   ]
  },
  {
   "cell_type": "code",
   "execution_count": 4,
   "id": "e51b9e19",
   "metadata": {},
   "outputs": [
    {
     "name": "stdout",
     "output_type": "stream",
     "text": [
      "2\n"
     ]
    }
   ],
   "source": [
    "row1=arr[0,1]\n",
    "print(row1)"
   ]
  },
  {
   "cell_type": "code",
   "execution_count": 5,
   "id": "de9a2de7",
   "metadata": {},
   "outputs": [
    {
     "name": "stdout",
     "output_type": "stream",
     "text": [
      "10\n",
      "50\n",
      "50\n",
      "[20 30 40]\n",
      "[30 40 50]\n",
      "[20 40]\n"
     ]
    }
   ],
   "source": [
    "import numpy as np\n",
    "arr=np.array([10,20,30,40,50])\n",
    "print(arr[0])\n",
    "print(arr[4])\n",
    "print(arr[-1])\n",
    "print(arr[1:4])\n",
    "print(arr[arr>25])\n",
    "print(arr[[1,3]])"
   ]
  },
  {
   "cell_type": "code",
   "execution_count": 6,
   "id": "064a2d1a",
   "metadata": {},
   "outputs": [
    {
     "name": "stdout",
     "output_type": "stream",
     "text": [
      "1\n",
      "6\n"
     ]
    }
   ],
   "source": [
    "arr=np.array([[1,2,3],[4,5,6],[7,8,9]])\n",
    "print(arr[0,0])\n",
    "print(arr[1,2])"
   ]
  },
  {
   "cell_type": "code",
   "execution_count": 8,
   "id": "14aa3b87",
   "metadata": {},
   "outputs": [
    {
     "name": "stdout",
     "output_type": "stream",
     "text": [
      "[[1 2 5 6]\n",
      " [3 4 7 8]]\n"
     ]
    }
   ],
   "source": [
    "import numpy as np\n",
    "arr1=np.array([[1,2],[3,4]])\n",
    "arr2=np.array([[5,6],[7,8]])\n",
    "result=np.hstack((arr1,arr2))\n",
    "print(result)"
   ]
  },
  {
   "cell_type": "code",
   "execution_count": 9,
   "id": "ecdf9bbc",
   "metadata": {},
   "outputs": [
    {
     "name": "stdout",
     "output_type": "stream",
     "text": [
      "[[1 2 5 6]\n",
      " [3 4 7 8]]\n"
     ]
    }
   ],
   "source": [
    "result1=np.hstack((arr1,arr2))\n",
    "print(result1)"
   ]
  },
  {
   "cell_type": "code",
   "execution_count": 10,
   "id": "9b3cecdf",
   "metadata": {},
   "outputs": [
    {
     "name": "stdout",
     "output_type": "stream",
     "text": [
      "[[[1 5]\n",
      "  [2 6]]\n",
      "\n",
      " [[3 7]\n",
      "  [4 8]]]\n"
     ]
    }
   ],
   "source": [
    "result2=np.dstack((arr1,arr2))\n",
    "print(result2)"
   ]
  },
  {
   "cell_type": "code",
   "execution_count": 13,
   "id": "5dc05a7e",
   "metadata": {},
   "outputs": [
    {
     "name": "stdout",
     "output_type": "stream",
     "text": [
      "[array([1, 2]), array([3, 4]), array([5, 6])]\n",
      "[array([1, 2]), array([3, 4]), array([5, 6])]\n",
      "[array([1, 2]), array([3, 4]), array([5, 6])]\n",
      "[array([[1, 2, 3]]), array([[4, 5, 6]]), array([[7, 8, 9]])]\n",
      "[array([[[1, 2],\n",
      "        [3, 4]]]), array([[[5, 6],\n",
      "        [7, 8]]])]\n"
     ]
    }
   ],
   "source": [
    "import numpy as np\n",
    "arr=np.array([1,2,3,4,5,6])\n",
    "result=np.split(arr,3)\n",
    "print(result)\n",
    "arr1=np.array([1,2,3,4,5])\n",
    "result1=np.array_split(arr,3)\n",
    "print(result1)\n",
    "arr2=np.array([[1,2,3],[4,5,6]])\n",
    "result2=np.hsplit(arr,3)\n",
    "print(result2)\n",
    "arr3=np.array([[1,2,3],[4,5,6],[7,8,9]])\n",
    "result3=np.vsplit(arr3,3)\n",
    "print(result3)\n",
    "arr4=np.array([[[1,2],[3,4]],[[5,6],[7,8]]])\n",
    "result4=np.split(arr4,2)\n",
    "print(result4)"
   ]
  },
  {
   "cell_type": "code",
   "execution_count": null,
   "id": "03524cfe",
   "metadata": {},
   "outputs": [],
   "source": []
  }
 ],
 "metadata": {
  "kernelspec": {
   "display_name": "Python 3 (ipykernel)",
   "language": "python",
   "name": "python3"
  },
  "language_info": {
   "codemirror_mode": {
    "name": "ipython",
    "version": 3
   },
   "file_extension": ".py",
   "mimetype": "text/x-python",
   "name": "python",
   "nbconvert_exporter": "python",
   "pygments_lexer": "ipython3",
   "version": "3.11.4"
  }
 },
 "nbformat": 4,
 "nbformat_minor": 5
}
