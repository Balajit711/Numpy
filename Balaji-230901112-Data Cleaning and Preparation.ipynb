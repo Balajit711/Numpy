{
 "cells": [
  {
   "cell_type": "code",
   "execution_count": 4,
   "id": "cfb2d676",
   "metadata": {},
   "outputs": [
    {
     "name": "stdout",
     "output_type": "stream",
     "text": [
      "Original DataFrame with Nan\n",
      "         one       two     three\n",
      "a  1.294850  0.117907 -0.618540\n",
      "b       NaN       NaN       NaN\n",
      "c -0.311397 -0.625255 -1.029152\n",
      "d -0.188642  1.646595 -0.503038\n",
      "e       NaN       NaN       NaN\n",
      "f  1.404139 -1.643223  0.076134\n",
      "Dropped DataFrame\n",
      "         one       two     three\n",
      "a  1.294850  0.117907 -0.618540\n",
      "c -0.311397 -0.625255 -1.029152\n",
      "d -0.188642  1.646595 -0.503038\n",
      "f  1.404139 -1.643223  0.076134\n",
      "\n",
      "\n"
     ]
    }
   ],
   "source": [
    "import pandas as pd\n",
    "import numpy as np\n",
    "df=pd.DataFrame(np.random.randn(4,3),index=['a','c','d','f'],columns=['one','two','three'])\n",
    "df=df.reindex(['a','b','c','d','e','f'])\n",
    "print(\"Original DataFrame with Nan\\n\",df)\n",
    "print(\"Dropped DataFrame\\n\",df.dropna())\n",
    "print(\"\\n\")"
   ]
  },
  {
   "cell_type": "code",
   "execution_count": 6,
   "id": "a05eed21",
   "metadata": {},
   "outputs": [
    {
     "name": "stdout",
     "output_type": "stream",
     "text": [
      "NaN replaced with 0:\n",
      "         one       two     three\n",
      "a  1.294850  0.117907 -0.618540\n",
      "b  0.000000  0.000000  0.000000\n",
      "c -0.311397 -0.625255 -1.029152\n",
      "d -0.188642  1.646595 -0.503038\n",
      "e  0.000000  0.000000  0.000000\n",
      "f  1.404139 -1.643223  0.076134\n",
      "\n",
      "\n"
     ]
    }
   ],
   "source": [
    "print(\"NaN replaced with 0:\\n\",df.fillna(0))\n",
    "print(\"\\n\")"
   ]
  },
  {
   "cell_type": "code",
   "execution_count": 8,
   "id": "cd1ff186",
   "metadata": {},
   "outputs": [
    {
     "name": "stdout",
     "output_type": "stream",
     "text": [
      "Original DataFrame:\n",
      ",df\n",
      "\n",
      " DataFrame with replaced values: \n",
      "\n",
      "   one  two\n",
      "0    5   60\n",
      "1   20   70\n",
      "2   30    3\n",
      "3   40    0\n",
      "4   50    5\n"
     ]
    }
   ],
   "source": [
    "df=pd.DataFrame({'one':[10,20,30,40,50],'two':[60,70,80,0,10]})\n",
    "print(\"Original DataFrame:\\n,df\")\n",
    "print(\"\\n DataFrame with replaced values: \\n\")\n",
    "print(df.replace({10:5,80:3}))\n"
   ]
  },
  {
   "cell_type": "code",
   "execution_count": 9,
   "id": "f9c9a34f",
   "metadata": {},
   "outputs": [
    {
     "name": "stdout",
     "output_type": "stream",
     "text": [
      "Original DataFrame with Nan\n",
      "         one       two     three\n",
      "a  1.384230  0.570903 -0.994375\n",
      "b       NaN       NaN       NaN\n",
      "c -0.943396 -1.402547 -0.500159\n",
      "d  0.476648 -0.706607  1.026650\n",
      "e       NaN       NaN       NaN\n",
      "f -0.866223  1.390723  0.111338\n",
      "\n",
      " NaN with true fill:\n",
      "\n",
      "a    False\n",
      "b     True\n",
      "c    False\n",
      "d    False\n",
      "e     True\n",
      "f    False\n",
      "Name: one, dtype: bool\n"
     ]
    }
   ],
   "source": [
    "df=pd.DataFrame(np.random.randn(4,3),index=['a','c','d','f'],columns=['one','two','three'])\n",
    "df=df.reindex(['a','b','c','d','e','f'])\n",
    "print(\"Original DataFrame with Nan\\n\",df)\n",
    "print(\"\\n NaN with true fill:\\n\")\n",
    "print(df['one'].isnull)"
   ]
  },
  {
   "cell_type": "code",
   "execution_count": 10,
   "id": "0590d5a8",
   "metadata": {},
   "outputs": [
    {
     "name": "stdout",
     "output_type": "stream",
     "text": [
      "NaN filled with Background values:\n",
      "\n",
      "        one       two     three\n",
      "a  1.384230  0.570903 -0.994375\n",
      "b -0.943396 -1.402547 -0.500159\n",
      "c -0.943396 -1.402547 -0.500159\n",
      "d  0.476648 -0.706607  1.026650\n",
      "e -0.866223  1.390723  0.111338\n",
      "f -0.866223  1.390723  0.111338\n"
     ]
    }
   ],
   "source": [
    "print(\"NaN filled with Background values:\\n\")\n",
    "print(df.bfill())"
   ]
  },
  {
   "cell_type": "code",
   "execution_count": null,
   "id": "27378925",
   "metadata": {},
   "outputs": [],
   "source": []
  }
 ],
 "metadata": {
  "kernelspec": {
   "display_name": "Python 3 (ipykernel)",
   "language": "python",
   "name": "python3"
  },
  "language_info": {
   "codemirror_mode": {
    "name": "ipython",
    "version": 3
   },
   "file_extension": ".py",
   "mimetype": "text/x-python",
   "name": "python",
   "nbconvert_exporter": "python",
   "pygments_lexer": "ipython3",
   "version": "3.11.4"
  }
 },
 "nbformat": 4,
 "nbformat_minor": 5
}
